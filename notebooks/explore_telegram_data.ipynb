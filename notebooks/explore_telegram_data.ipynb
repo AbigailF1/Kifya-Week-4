{
 "cells": [
  {
   "cell_type": "code",
   "execution_count": 2,
   "id": "972d644a",
   "metadata": {},
   "outputs": [
    {
     "name": "stdout",
     "output_type": "stream",
     "text": [
      "Index(['Channel Title', 'Channel Username', 'ID', 'Message', 'Date',\n",
      "       'Media Path'],\n",
      "      dtype='object')\n",
      "         Channel Title    Channel Username    ID Message  \\\n",
      "0  Sheger online-store  @Shageronlinestore  5333     NaN   \n",
      "1  Sheger online-store  @Shageronlinestore  5332     NaN   \n",
      "2  Sheger online-store  @Shageronlinestore  5331     NaN   \n",
      "3  Sheger online-store  @Shageronlinestore  5330     NaN   \n",
      "4  Sheger online-store  @Shageronlinestore  5329     NaN   \n",
      "\n",
      "                        Date                          Media Path  \n",
      "0  2024-09-20 11:50:03+00:00  photos/@Shageronlinestore_5333.jpg  \n",
      "1  2024-09-20 11:50:03+00:00  photos/@Shageronlinestore_5332.jpg  \n",
      "2  2024-09-20 11:50:03+00:00  photos/@Shageronlinestore_5331.jpg  \n",
      "3  2024-09-20 11:50:02+00:00  photos/@Shageronlinestore_5330.jpg  \n",
      "4  2024-09-20 11:50:02+00:00  photos/@Shageronlinestore_5329.jpg  \n"
     ]
    }
   ],
   "source": [
    "import pandas as pd\n",
    "\n",
    "# Load raw telegram data\n",
    "df = pd.read_excel('../data/raw/telegram_data.xlsx')\n",
    "\n",
    "# Print column names and first few rows\n",
    "print(df.columns)\n",
    "print(df.head())\n"
   ]
  },
  {
   "cell_type": "code",
   "execution_count": 3,
   "id": "db32e1ec",
   "metadata": {},
   "outputs": [
    {
     "name": "stdout",
     "output_type": "stream",
     "text": [
      "Total rows: 5015\n",
      "Rows with text message: 3166\n",
      "                                              Message  \\\n",
      "5   💥3pcs silicon brush spatulas\\n\\n⚡እስከ 260°c ሙቀት...   \n",
      "6   💥Mandoline Slicer\\n\\n👉 ጊዜ ቆጣቢ ስላይስ ማድረጊያ \\n👉  ...   \n",
      "7   💥Table Desk Edge Guard Strip\\n       💯 High Qu...   \n",
      "8   💥Table Desk Edge Guard Strip\\n       💯 High Qu...   \n",
      "10  💥Only baby 3in1 double bottle milk warmer,ster...   \n",
      "\n",
      "                         Date  \n",
      "5   2024-09-20 11:50:02+00:00  \n",
      "6   2024-09-20 08:11:40+00:00  \n",
      "7   2024-09-20 05:23:18+00:00  \n",
      "8   2024-09-20 05:21:14+00:00  \n",
      "10  2024-09-19 13:54:46+00:00  \n"
     ]
    }
   ],
   "source": [
    "non_empty_messages = df[df['Message'].notnull()]\n",
    "print(f\"Total rows: {len(df)}\")\n",
    "print(f\"Rows with text message: {len(non_empty_messages)}\")\n",
    "\n",
    "# Peek at a few messages if any exist\n",
    "print(non_empty_messages[['Message', 'Date']].head())\n"
   ]
  },
  {
   "cell_type": "code",
   "execution_count": 6,
   "id": "4e35ed30",
   "metadata": {},
   "outputs": [
    {
     "name": "stdout",
     "output_type": "stream",
     "text": [
      "Saved 3161 cleaned messages to data/processed/telegram_messages_clean.csv\n"
     ]
    }
   ],
   "source": [
    "import pandas as pd\n",
    "from pathlib import Path\n",
    "\n",
    "# Load the raw data\n",
    "df = pd.read_excel(\"../data/raw/telegram_data.xlsx\")\n",
    "\n",
    "# Filter non-empty messages\n",
    "df_clean = df[df['Message'].notnull() & (df['Message'].str.len() > 10)].copy()\n",
    "\n",
    "# Reset index\n",
    "df_clean.reset_index(drop=True, inplace=True)\n",
    "\n",
    "# Save the cleaned version\n",
    "Path(\"data/processed\").mkdir(parents=True, exist_ok=True)\n",
    "df_clean.to_csv(\"../data/processed/telegram_messages_clean.csv\", index=False, encoding='utf-8-sig')\n",
    "\n",
    "print(f\"Saved {len(df_clean)} cleaned messages to data/processed/telegram_messages_clean.csv\")\n"
   ]
  }
 ],
 "metadata": {
  "kernelspec": {
   "display_name": "base",
   "language": "python",
   "name": "python3"
  },
  "language_info": {
   "codemirror_mode": {
    "name": "ipython",
    "version": 3
   },
   "file_extension": ".py",
   "mimetype": "text/x-python",
   "name": "python",
   "nbconvert_exporter": "python",
   "pygments_lexer": "ipython3",
   "version": "3.12.7"
  }
 },
 "nbformat": 4,
 "nbformat_minor": 5
}

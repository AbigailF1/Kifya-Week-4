{
 "cells": [
  {
   "cell_type": "code",
   "execution_count": 2,
   "id": "972d644a",
   "metadata": {},
   "outputs": [
    {
     "name": "stdout",
     "output_type": "stream",
     "text": [
      "Index(['Channel Title', 'Channel Username', 'ID', 'Message', 'Date',\n",
      "       'Media Path'],\n",
      "      dtype='object')\n",
      "         Channel Title    Channel Username    ID Message  \\\n",
      "0  Sheger online-store  @Shageronlinestore  5333     NaN   \n",
      "1  Sheger online-store  @Shageronlinestore  5332     NaN   \n",
      "2  Sheger online-store  @Shageronlinestore  5331     NaN   \n",
      "3  Sheger online-store  @Shageronlinestore  5330     NaN   \n",
      "4  Sheger online-store  @Shageronlinestore  5329     NaN   \n",
      "\n",
      "                        Date                          Media Path  \n",
      "0  2024-09-20 11:50:03+00:00  photos/@Shageronlinestore_5333.jpg  \n",
      "1  2024-09-20 11:50:03+00:00  photos/@Shageronlinestore_5332.jpg  \n",
      "2  2024-09-20 11:50:03+00:00  photos/@Shageronlinestore_5331.jpg  \n",
      "3  2024-09-20 11:50:02+00:00  photos/@Shageronlinestore_5330.jpg  \n",
      "4  2024-09-20 11:50:02+00:00  photos/@Shageronlinestore_5329.jpg  \n"
     ]
    }
   ],
   "source": [
    "import pandas as pd\n",
    "\n",
    "# Load raw telegram data\n",
    "df = pd.read_excel('../data/raw/telegram_data.xlsx')\n",
    "\n",
    "# Print column names and first few rows\n",
    "print(df.columns)\n",
    "print(df.head())\n"
   ]
  },
  {
   "cell_type": "code",
   "execution_count": 3,
   "id": "db32e1ec",
   "metadata": {},
   "outputs": [
    {
     "name": "stdout",
     "output_type": "stream",
     "text": [
      "Total rows: 5015\n",
      "Rows with text message: 3166\n",
      "                                              Message  \\\n",
      "5   💥3pcs silicon brush spatulas\\n\\n⚡እስከ 260°c ሙቀት...   \n",
      "6   💥Mandoline Slicer\\n\\n👉 ጊዜ ቆጣቢ ስላይስ ማድረጊያ \\n👉  ...   \n",
      "7   💥Table Desk Edge Guard Strip\\n       💯 High Qu...   \n",
      "8   💥Table Desk Edge Guard Strip\\n       💯 High Qu...   \n",
      "10  💥Only baby 3in1 double bottle milk warmer,ster...   \n",
      "\n",
      "                         Date  \n",
      "5   2024-09-20 11:50:02+00:00  \n",
      "6   2024-09-20 08:11:40+00:00  \n",
      "7   2024-09-20 05:23:18+00:00  \n",
      "8   2024-09-20 05:21:14+00:00  \n",
      "10  2024-09-19 13:54:46+00:00  \n"
     ]
    }
   ],
   "source": [
    "non_empty_messages = df[df['Message'].notnull()]\n",
    "print(f\"Total rows: {len(df)}\")\n",
    "print(f\"Rows with text message: {len(non_empty_messages)}\")\n",
    "\n",
    "# Peek at a few messages if any exist\n",
    "print(non_empty_messages[['Message', 'Date']].head())\n"
   ]
  },
  {
   "cell_type": "markdown",
   "id": "aaf14a19",
   "metadata": {},
   "source": [
    "<h3>Task 1</h3>"
   ]
  },
  {
   "cell_type": "code",
   "execution_count": 6,
   "id": "4e35ed30",
   "metadata": {},
   "outputs": [
    {
     "name": "stdout",
     "output_type": "stream",
     "text": [
      "Saved 3161 cleaned messages to data/processed/telegram_messages_clean.csv\n"
     ]
    }
   ],
   "source": [
    "import pandas as pd\n",
    "from pathlib import Path\n",
    "\n",
    "# Load the raw data\n",
    "df = pd.read_excel(\"../data/raw/telegram_data.xlsx\")\n",
    "\n",
    "# Filter non-empty messages\n",
    "df_clean = df[df['Message'].notnull() & (df['Message'].str.len() > 10)].copy()\n",
    "\n",
    "# Reset index\n",
    "df_clean.reset_index(drop=True, inplace=True)\n",
    "\n",
    "# Save the cleaned version\n",
    "Path(\"data/processed\").mkdir(parents=True, exist_ok=True)\n",
    "df_clean.to_csv(\"../data/processed/telegram_messages_clean.csv\", index=False, encoding='utf-8-sig')\n",
    "\n",
    "print(f\"Saved {len(df_clean)} cleaned messages to data/processed/telegram_messages_clean.csv\")\n"
   ]
  },
  {
   "cell_type": "markdown",
   "id": "106ab52e",
   "metadata": {},
   "source": []
  },
  {
   "cell_type": "markdown",
   "id": "ff82ec6e",
   "metadata": {},
   "source": [
    "<h3> Taks 2</h3>"
   ]
  },
  {
   "cell_type": "code",
   "execution_count": 9,
   "id": "1a111299",
   "metadata": {},
   "outputs": [
    {
     "name": "stdout",
     "output_type": "stream",
     "text": [
      "Saved 50 messages for labeling.\n"
     ]
    }
   ],
   "source": [
    "import pandas as pd\n",
    "\n",
    "# Load your cleaned data (adjust path if needed)\n",
    "df = pd.read_csv('data/processed/telegram_messages_clean.csv')\n",
    "\n",
    "# Filter messages with non-null text\n",
    "messages_with_text = df[df['Message'].notnull()]['Message']\n",
    "\n",
    "# Select the first 50 messages (or sample randomly)\n",
    "subset = messages_with_text.head(50)\n",
    "\n",
    "# Save the subset to a file for labeling convenience\n",
    "subset.to_csv('../data/processed/labeling_subset.txt', index=False, header=False)\n",
    "print(\"Saved 50 messages for labeling.\")\n"
   ]
  },
  {
   "cell_type": "code",
   "execution_count": 11,
   "id": "3d012ce5",
   "metadata": {},
   "outputs": [
    {
     "name": "stdout",
     "output_type": "stream",
     "text": [
      "3pcs B-PRODUCT\n",
      "silicon I-PRODUCT\n",
      "brush I-PRODUCT\n",
      "spatulas I-PRODUCT\n",
      "እስከ O\n",
      "260°c O\n",
      "ሙቀት O\n",
      "መቆቆም O\n",
      "የሚችል O\n",
      "ዋጋ-550ብር I-PRICE\n",
      "አድራሻ O\n",
      "ቁ.1 O\n",
      "ስሪ O\n",
      "ኤም O\n",
      "ሲቲ O\n",
      "ሞል O\n",
      "ሁለተኛ O\n",
      "ፎቅ O\n",
      "ቢሮ O\n",
      "ቁ. O\n"
     ]
    }
   ],
   "source": [
    "with open('../data/raw/labeled_telegram_product_price_location.txt', 'r', encoding='utf-8') as f:\n",
    "    for _ in range(20):  # print first 20 lines\n",
    "        print(f.readline().strip())\n"
   ]
  },
  {
   "cell_type": "code",
   "execution_count": null,
   "id": "f4801c82",
   "metadata": {},
   "outputs": [],
   "source": []
  },
  {
   "cell_type": "markdown",
   "id": "1053a574",
   "metadata": {},
   "source": [
    "<h3> Taks 3</h3>"
   ]
  },
  {
   "cell_type": "markdown",
   "id": "3d4a30d2",
   "metadata": {},
   "source": [
    "<h3> Taks 4</h3>"
   ]
  },
  {
   "cell_type": "markdown",
   "id": "d32b392a",
   "metadata": {},
   "source": []
  }
 ],
 "metadata": {
  "kernelspec": {
   "display_name": "base",
   "language": "python",
   "name": "python3"
  },
  "language_info": {
   "codemirror_mode": {
    "name": "ipython",
    "version": 3
   },
   "file_extension": ".py",
   "mimetype": "text/x-python",
   "name": "python",
   "nbconvert_exporter": "python",
   "pygments_lexer": "ipython3",
   "version": "3.12.7"
  }
 },
 "nbformat": 4,
 "nbformat_minor": 5
}
